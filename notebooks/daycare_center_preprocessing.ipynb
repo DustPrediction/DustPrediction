{
 "cells": [
  {
   "cell_type": "markdown",
   "metadata": {},
   "source": [
    "## 아동 보육시설 전처리\n",
    "\n",
    "### 데이터 전처리 (Data Preprocessing)\n",
    "\n",
    "이 노트북은 서울시 아동 보육시설 데이터를 분석에 적합한 형태로 전처리하기 위해 작성되었습니다.\n",
    "\n",
    "- 데이터 로드 및 기본 정보 확인\n",
    "- 운영현황을 기준으로 데이터 필터링\n",
    "- 구별 데이터 통합 및 정제\n",
    "\n",
    "전처리를 통해 모델링에 필요한 깨끗하고 일관된 형태의 데이터셋을 구축하는 데 목적이 있습니다.\n",
    "\n",
    "### 1. 데이터 로드 및 기본 설정"
   ]
  },
  {
   "cell_type": "code",
   "execution_count": 1,
   "metadata": {},
   "outputs": [],
   "source": [
    "#  Jupyter Notebook에서 외부 모듈(.py 파일)을 수정할 경우,\n",
    "#  매번 커널을 재시작하거나 수동으로 reload하지 않아도\n",
    "#  자동으로 가장 최신 상태로 import 되도록 설정합니다.\n",
    "\n",
    "# %load_ext autoreload:\n",
    "# IPython의 autoreload 확장 기능을 불러옵니다.\n",
    "# 이 기능은 외부 .py 파일이 변경될 때 자동으로 다시 import 하도록 도와줍니다.\n",
    "\n",
    "# %autoreload 2:\n",
    "# 모든 모듈을 cell 실행 시마다 자동으로 reload합니다.\n",
    "# (즉, 외부 .py 파일을 수정하고 저장만 해도 바로 반영됨)\n",
    "\n",
    "# 사용 예:\n",
    "#   - utils.py, visualization.py 등 자주 수정하는 모듈이 있는 경우\n",
    "#   - 매번 커널 재시작 없이 편리하게 함수 변경 사항을 반영하고 싶을 때\n",
    "\n",
    "# 단, 모듈의 내부 상태를 유지하고 싶은 경우에는 주의해서 사용해야 합니다.\n",
    "\n",
    "%load_ext autoreload\n",
    "%autoreload 2"
   ]
  },
  {
   "cell_type": "code",
   "execution_count": 2,
   "metadata": {},
   "outputs": [],
   "source": [
    "import sys\n",
    "import os\n",
    "\n",
    "# 프로젝트 루트 경로를 sys.path에 추가\n",
    "project_root = os.path.abspath(\"..\")  # notebooks 폴더 기준 상위 폴더\n",
    "if project_root not in sys.path:\n",
    "    sys.path.append(project_root)"
   ]
  },
  {
   "cell_type": "code",
   "execution_count": 3,
   "metadata": {},
   "outputs": [
    {
     "name": "stdout",
     "output_type": "stream",
     "text": [
      "Current OS: Darwin\n",
      "Setting macOS font: AppleGothic\n",
      "Current font settings: ['AppleGothic']\n"
     ]
    }
   ],
   "source": [
    "import pandas as pd\n",
    "from scripts.utils import setup_font\n",
    "\n",
    "# 한글 폰트 설정\n",
    "setup_font()"
   ]
  },
  {
   "cell_type": "code",
   "execution_count": 4,
   "metadata": {},
   "outputs": [],
   "source": [
    "import glob\n",
    "# 원본 데이터가 저장된 폴더 경로 설정\n",
    "folder_path = '../data/raw/daycarecenter'\n",
    "save_dir = '../data/processed/daycarecenter'\n",
    "\n",
    "# 처리할 서울시 어린이집 데이터 CSV 파일 경로 가져오기\n",
    "files = glob.glob(os.path.join(folder_path, '*.csv'))\n",
    "\n",
    "# 저장 폴더 생성\n",
    "os.makedirs(save_dir, exist_ok=True)\n",
    "\n",
    "# 결과를 저장할 빈 DataFrame 생성\n",
    "daycarecenter_merged_df = pd.DataFrame()"
   ]
  },
  {
   "cell_type": "markdown",
   "metadata": {},
   "source": [
    "### 2. 구별 어린이집 데이터 기본 전처리 및 통합\n",
    "- 열 이름 정제\n",
    "- 운영현황을 기준으로 데이터 필터링\n",
    "- 필요한 컬럼 선택\n",
    "- 통합 데이터 저장"
   ]
  },
  {
   "cell_type": "code",
   "execution_count": 5,
   "metadata": {},
   "outputs": [],
   "source": [
    "from scripts.utils import save_to_csv, strip_column_names\n",
    "\n",
    "# 각 구별 데이터 처리\n",
    "for file in files:\n",
    "    # CSV 파일 읽기\n",
    "    df = pd.read_csv(file, encoding='utf-8')\n",
    "    \n",
    "    # 열 이름 정제\n",
    "    df = strip_column_names(df)\n",
    "        \n",
    "    # \"운영현황\"이 \"정상\" 또는 \"재개\"인 데이터만 필터링\n",
    "    df = df[df['운영현황'].isin(['정상', '재개'])]\n",
    "    \n",
    "    # 필요한 컬럼만 선택\n",
    "    df = df[['시군구', '어린이집명', '주소', '위도', '경도']]\n",
    "    \n",
    "    # 결과 DataFrame에 추가\n",
    "    daycarecenter_merged_df = pd.concat([daycarecenter_merged_df, df], ignore_index=True)"
   ]
  },
  {
   "cell_type": "markdown",
   "metadata": {},
   "source": [
    "### 3. 통합된 어린이집 데이터와 측정소 위치 데이터 매핑\n",
    "- 어린이집과 측정소의 위도 경도 숫자형 변환\n",
    "- 어린이집에 대해 가장 가까운 측정소 검색\n",
    "- 측정소, 측정소까지의 거리 컬럼 추가"
   ]
  },
  {
   "cell_type": "code",
   "execution_count": 6,
   "metadata": {},
   "outputs": [],
   "source": [
    "# 위도와 경도 좌표를 사용하여 두 지점 사이 거리를 계산하기 위해 haversine 라이브러리 설치\n",
    "# pip install haversine==2.9.0"
   ]
  },
  {
   "cell_type": "code",
   "execution_count": 7,
   "metadata": {},
   "outputs": [
    {
     "data": {
      "text/html": [
       "<div>\n",
       "<style scoped>\n",
       "    .dataframe tbody tr th:only-of-type {\n",
       "        vertical-align: middle;\n",
       "    }\n",
       "\n",
       "    .dataframe tbody tr th {\n",
       "        vertical-align: top;\n",
       "    }\n",
       "\n",
       "    .dataframe thead th {\n",
       "        text-align: right;\n",
       "    }\n",
       "</style>\n",
       "<table border=\"1\" class=\"dataframe\">\n",
       "  <thead>\n",
       "    <tr style=\"text-align: right;\">\n",
       "      <th></th>\n",
       "      <th>시군구</th>\n",
       "      <th>어린이집명</th>\n",
       "      <th>주소</th>\n",
       "      <th>위도</th>\n",
       "      <th>경도</th>\n",
       "      <th>측정소</th>\n",
       "      <th>측정소까지거리(km)</th>\n",
       "    </tr>\n",
       "  </thead>\n",
       "  <tbody>\n",
       "    <tr>\n",
       "      <th>0</th>\n",
       "      <td>구로구</td>\n",
       "      <td>명화어린이집</td>\n",
       "      <td>서울특별시 구로구 개봉로17다길 6 (개봉동)</td>\n",
       "      <td>37.493450</td>\n",
       "      <td>126.855103</td>\n",
       "      <td>구로구</td>\n",
       "      <td>3.134825</td>\n",
       "    </tr>\n",
       "    <tr>\n",
       "      <th>1</th>\n",
       "      <td>구로구</td>\n",
       "      <td>꿈이있는어린이집</td>\n",
       "      <td>서울특별시 구로구 벚꽃로 484 화원사회종합복지관내 (구로동)</td>\n",
       "      <td>37.497329</td>\n",
       "      <td>126.880142</td>\n",
       "      <td>구로구</td>\n",
       "      <td>0.885956</td>\n",
       "    </tr>\n",
       "    <tr>\n",
       "      <th>2</th>\n",
       "      <td>구로구</td>\n",
       "      <td>이편한어린이집</td>\n",
       "      <td>서울특별시 구로구 신도림로 16 대림아파트 관리동1층 (신도림동)</td>\n",
       "      <td>37.505801</td>\n",
       "      <td>126.880712</td>\n",
       "      <td>구로구</td>\n",
       "      <td>1.179900</td>\n",
       "    </tr>\n",
       "    <tr>\n",
       "      <th>3</th>\n",
       "      <td>구로구</td>\n",
       "      <td>별나라어린이집</td>\n",
       "      <td>서울특별시 구로구 신도림로11가길 36 5동 101호(신도림동, 미성아파트)</td>\n",
       "      <td>37.508274</td>\n",
       "      <td>126.876108</td>\n",
       "      <td>구로구</td>\n",
       "      <td>1.663649</td>\n",
       "    </tr>\n",
       "    <tr>\n",
       "      <th>4</th>\n",
       "      <td>구로구</td>\n",
       "      <td>미래어린이집</td>\n",
       "      <td>서울특별시 구로구 구로동로20길 57 (구로동)</td>\n",
       "      <td>37.488049</td>\n",
       "      <td>126.887631</td>\n",
       "      <td>구로구</td>\n",
       "      <td>1.155982</td>\n",
       "    </tr>\n",
       "  </tbody>\n",
       "</table>\n",
       "</div>"
      ],
      "text/plain": [
       "   시군구     어린이집명                                          주소         위도  \\\n",
       "0  구로구    명화어린이집                   서울특별시 구로구 개봉로17다길 6 (개봉동)  37.493450   \n",
       "1  구로구  꿈이있는어린이집          서울특별시 구로구 벚꽃로 484 화원사회종합복지관내 (구로동)  37.497329   \n",
       "2  구로구   이편한어린이집        서울특별시 구로구 신도림로 16 대림아파트 관리동1층 (신도림동)  37.505801   \n",
       "3  구로구   별나라어린이집  서울특별시 구로구 신도림로11가길 36 5동 101호(신도림동, 미성아파트)  37.508274   \n",
       "4  구로구    미래어린이집                  서울특별시 구로구 구로동로20길 57 (구로동)  37.488049   \n",
       "\n",
       "           경도  측정소  측정소까지거리(km)  \n",
       "0  126.855103  구로구     3.134825  \n",
       "1  126.880142  구로구     0.885956  \n",
       "2  126.880712  구로구     1.179900  \n",
       "3  126.876108  구로구     1.663649  \n",
       "4  126.887631  구로구     1.155982  "
      ]
     },
     "execution_count": 7,
     "metadata": {},
     "output_type": "execute_result"
    }
   ],
   "source": [
    "\n",
    "import numpy as np\n",
    "from haversine import haversine\n",
    "\n",
    "# 데이터 읽기\n",
    "station_df = pd.read_csv('../data/raw/monitoringStation/seoul_monitoring_stations.csv', encoding='utf-8')\n",
    "\n",
    "# 위도, 경도를 숫자형으로 변환\n",
    "daycarecenter_merged_df['위도'] = pd.to_numeric(daycarecenter_merged_df['위도'], errors='coerce')\n",
    "daycarecenter_merged_df['경도'] = pd.to_numeric(daycarecenter_merged_df['경도'], errors='coerce')\n",
    "station_df['위도'] = pd.to_numeric(station_df['위도'], errors='coerce')\n",
    "station_df['경도'] = pd.to_numeric(station_df['경도'], errors='coerce')\n",
    "\n",
    "# 측정소 좌표 리스트 생성\n",
    "station_coords = list(zip(station_df['위도'], station_df['경도']))\n",
    "station_names = station_df['측정소명'].tolist()\n",
    "\n",
    "# 각 어린이집에 대해 가장 가까운 측정소 찾기\n",
    "nearest_stations = []\n",
    "nearest_distances = []\n",
    "\n",
    "for idx, row in daycarecenter_merged_df.iterrows():\n",
    "    if pd.isna(row['위도']) or pd.isna(row['경도']):\n",
    "        nearest_stations.append(None)\n",
    "        nearest_distances.append(None)\n",
    "        continue\n",
    "        \n",
    "    daycare_coord = (row['위도'], row['경도'])\n",
    "    \n",
    "    # 모든 측정소와의 거리 계산\n",
    "    distances = [haversine(daycare_coord, station_coord, unit='km') for station_coord in station_coords]\n",
    "    \n",
    "    # 가장 가까운 측정소 찾기\n",
    "    min_idx = np.argmin(distances)\n",
    "    nearest_stations.append(station_names[min_idx])\n",
    "    nearest_distances.append(distances[min_idx])\n",
    "\n",
    "# 결과를 DataFrame에 추가\n",
    "daycarecenter_merged_df['측정소'] = nearest_stations\n",
    "daycarecenter_merged_df['측정소까지거리(km)'] = nearest_distances\n",
    "\n",
    "# 결과를 CSV 파일로 저장\n",
    "save_to_csv(daycarecenter_merged_df, output_dir= save_dir, file_name='daycarecenter_preprocessed')\n",
    "\n",
    "daycarecenter_merged_df.head()"
   ]
  }
 ],
 "metadata": {
  "kernelspec": {
   "display_name": "tfenv",
   "language": "python",
   "name": "python3"
  },
  "language_info": {
   "codemirror_mode": {
    "name": "ipython",
    "version": 3
   },
   "file_extension": ".py",
   "mimetype": "text/x-python",
   "name": "python",
   "nbconvert_exporter": "python",
   "pygments_lexer": "ipython3",
   "version": "3.10.17"
  }
 },
 "nbformat": 4,
 "nbformat_minor": 2
}
