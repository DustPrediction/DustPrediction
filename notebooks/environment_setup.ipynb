{
 "cells": [
  {
   "cell_type": "markdown",
   "id": "87ce4068",
   "metadata": {},
   "source": [
    "## 실험 환경 정보\n",
    "\n",
    "### Python 버전 및 라이브러리\n",
    "\n",
    "이 노트북은 실험 재현성과 일관된 환경 구성을 위해 Python 버전과 필수 라이브러리의 설치 방법을 명확히 기록하기 위해 작성되었습니다.\n",
    "\n",
    "- **Python 3.10** 환경에서 실험을 수행하였습니다.\n",
    "- 데이터 처리, 시각화, 머신러닝 등을 위한 다양한 라이브러리를 설치하고 활용하였습니다.\n",
    "    1. Numpy        1.23.5\n",
    "    2. Pandas       2.2.3\n",
    "    3. matplotlib   3.10.3\n",
    "    4. scikit-learn 1.6.1\n",
    "    5. seaborn      0.13.2\n",
    "    6. haversine    2.9.0\n",
    "    7. openpyxl     3.1.5\n",
    "\n",
    "밑에 주석을 제거하고 명령어를 실행하면 동일한 환경을 구성할 수 있습니다."
   ]
  },
  {
   "cell_type": "code",
   "execution_count": null,
   "id": "5e30af62",
   "metadata": {},
   "outputs": [],
   "source": [
    "# # 버전 충돌이 발생할 수 있으니 가상환경에서 설치하세요.\n",
    "\n",
    "# # 하나씩 설치\n",
    "# pip install numpy==1.23.5\n",
    "# pip install pandas==2.2.3\n",
    "# pip install matplotlib==3.10.3\n",
    "# pip install scikit-learn==1.6.1\n",
    "# pip install seaborn==0.13.2\n",
    "# pip install haversine==2.9.0\n",
    "# pip install openpyxl==3.1.5\n",
    "\n",
    "# # 한 번에 설치\n",
    "# pip install numpy==1.23.5 pandas==2.2.3 matplotlib==3.10.3 scikit-learn==1.6.1 seaborn==0.13.2 haversine==2.9.0 openpyxl==3.1.5"
   ]
  },
  {
   "cell_type": "code",
   "execution_count": 1,
   "id": "3316ca7f",
   "metadata": {},
   "outputs": [
    {
     "name": "stdout",
     "output_type": "stream",
     "text": [
      "Requirement already satisfied: numpy==1.23.5 in c:\\users\\whdwl\\anaconda3\\envs\\ttest\\lib\\site-packages (1.23.5)\n",
      "Requirement already satisfied: pandas==2.2.3 in c:\\users\\whdwl\\anaconda3\\envs\\ttest\\lib\\site-packages (2.2.3)\n",
      "Requirement already satisfied: matplotlib==3.10.3 in c:\\users\\whdwl\\anaconda3\\envs\\ttest\\lib\\site-packages (3.10.3)\n",
      "Note: you may need to restart the kernel to use updated packages.\n"
     ]
    },
    {
     "name": "stderr",
     "output_type": "stream",
     "text": [
      "ERROR: Could not find a version that satisfies the requirement scikit==1.6.1 (from versions: none)\n",
      "ERROR: No matching distribution found for scikit==1.6.1\n"
     ]
    }
   ],
   "source": [
    "pip install numpy==1.23.5 pandas==2.2.3 matplotlib==3.10.3 scikit==1.6.1 seaborn==0.13.2 haversine==2.9.0 openpyxl==3.1.5"
   ]
  }
 ],
 "metadata": {
  "kernelspec": {
   "display_name": "ttest",
   "language": "python",
   "name": "python3"
  },
  "language_info": {
   "codemirror_mode": {
    "name": "ipython",
    "version": 3
   },
   "file_extension": ".py",
   "mimetype": "text/x-python",
   "name": "python",
   "nbconvert_exporter": "python",
   "pygments_lexer": "ipython3",
   "version": "3.10.18"
  }
 },
 "nbformat": 4,
 "nbformat_minor": 5
}
