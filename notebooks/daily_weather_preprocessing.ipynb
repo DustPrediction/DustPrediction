{
 "cells": [
  {
   "cell_type": "markdown",
   "metadata": {},
   "source": [
    "## 서울시 기상 데이터 전처리\n",
    "\n",
    "### 데이터 전처리 (Data Preprocessing)\n",
    "\n",
    "이 노트북은 서울시 기상 데이터를 분석에 적합한 형태로 전처리하기 위해 작성되었습니다.\n",
    "\n",
    "- 데이터 로드 및 기본 정보 확인\n",
    "- 날짜 형식 변환 및 정렬\n",
    "\n",
    "전처리를 통해 모델링에 필요한 깨끗하고 일관된 형태의 데이터셋을 구축하는 데 목적이 있습니다.\n",
    "\n",
    "### 1. 데이터 로드 및 기본 설정"
   ]
  },
  {
   "cell_type": "code",
   "execution_count": 1,
   "metadata": {},
   "outputs": [],
   "source": [
    "#  Jupyter Notebook에서 외부 모듈(.py 파일)을 수정할 경우,\n",
    "#  매번 커널을 재시작하거나 수동으로 reload하지 않아도\n",
    "#  자동으로 가장 최신 상태로 import 되도록 설정합니다.\n",
    "\n",
    "# %load_ext autoreload:\n",
    "# IPython의 autoreload 확장 기능을 불러옵니다.\n",
    "# 이 기능은 외부 .py 파일이 변경될 때 자동으로 다시 import 하도록 도와줍니다.\n",
    "\n",
    "# %autoreload 2:\n",
    "# 모든 모듈을 cell 실행 시마다 자동으로 reload합니다.\n",
    "# (즉, 외부 .py 파일을 수정하고 저장만 해도 바로 반영됨)\n",
    "\n",
    "# 사용 예:\n",
    "#   - utils.py, visualization.py 등 자주 수정하는 모듈이 있는 경우\n",
    "#   - 매번 커널 재시작 없이 편리하게 함수 변경 사항을 반영하고 싶을 때\n",
    "\n",
    "# 단, 모듈의 내부 상태를 유지하고 싶은 경우에는 주의해서 사용해야 합니다.\n",
    "\n",
    "%load_ext autoreload\n",
    "%autoreload 2"
   ]
  },
  {
   "cell_type": "code",
   "execution_count": 2,
   "metadata": {},
   "outputs": [],
   "source": [
    "import sys\n",
    "import os\n",
    "\n",
    "# 프로젝트 루트 경로를 sys.path에 추가\n",
    "project_root = os.path.abspath(\"..\")  # notebooks 폴더 기준 상위 폴더\n",
    "if project_root not in sys.path:\n",
    "    sys.path.append(project_root)"
   ]
  },
  {
   "cell_type": "code",
   "execution_count": 3,
   "metadata": {},
   "outputs": [
    {
     "name": "stdout",
     "output_type": "stream",
     "text": [
      "Current OS: Darwin\n",
      "Setting macOS font: AppleGothic\n",
      "Current font settings: ['AppleGothic']\n"
     ]
    }
   ],
   "source": [
    "import pandas as pd\n",
    "from scripts.utils import *\n",
    "\n",
    "# 한글 폰트 설정\n",
    "setup_font()"
   ]
  },
  {
   "cell_type": "code",
   "execution_count": 4,
   "metadata": {},
   "outputs": [],
   "source": [
    "# 원본 데이터가 저장된 폴더 경로 설정\n",
    "folder_path = '../data/raw/weather'\n",
    "save_dir = '../data/processed/weather'\n",
    "\n",
    "# 처리할 서울시 구별 기상 데이터 파일\n",
    "# 서울시와 종로구의 기상 데이터가 개별 CSV 파일로 저장되어 있음\n",
    "# 서울시 통합 데이터에 결측치 (종로구 측정소인 북한산 2018.12.04 이후로 측정 중단) 존재\n",
    "# 종관기상관측(ASOS)의 서울 측정소(종로에 위치) 데이터 사용하여 결측치 보완하였기 때문에 종로구를 제외한 서울시, 종로구 데이터 별도 존재\n",
    "seoul_file = 'Seoul_daily_weather_2018_2024.csv'\n",
    "jongno_file = 'Jongno_daily_weather_2018_2024.csv'\n",
    "\n",
    "# 파일 읽기\n",
    "seoul_df = pd.read_csv(os.path.join(folder_path, seoul_file), encoding='cp949')\n",
    "jongno_df = pd.read_csv(os.path.join(folder_path, jongno_file), encoding='cp949')\n",
    "\n",
    "# 저장 폴더 생성\n",
    "os.makedirs(save_dir, exist_ok=True)"
   ]
  },
  {
   "cell_type": "markdown",
   "metadata": {},
   "source": [
    "### 2. 서울시(종로구 제외 전체 구)와 종로구 대기질 데이터 기본 전처리 및 통합 후 저장\n",
    "- 날짜 형식 변환\n",
    "- 필요한 컬럼 선택\n",
    "- 기본적인 데이터 정제\n",
    "- 종로구, 서울시 데이터 통합\n",
    "- 통합 데이터 저장"
   ]
  },
  {
   "cell_type": "code",
   "execution_count": 5,
   "metadata": {},
   "outputs": [],
   "source": [
    "# 데이터프레임의 열 이름에서 공백 제거\n",
    "strip_column_names(seoul_df)\n",
    "strip_column_names(jongno_df)\n",
    "\n",
    "# 서울시 데이터 처리\n",
    "# 서울시 지점명 정제\n",
    "seoul_df['지점명'] = seoul_df['지점명'].str.replace(r'강북\\*', '강북', regex=True)\n",
    "seoul_df['지점명'] = seoul_df['지점명'].str.replace(r'현충원', '동작', regex=True)\n",
    "seoul_df['지점명'] = seoul_df['지점명'].str.replace(r'남현', '관악', regex=True)\n",
    "\n",
    "# 종로구 데이터 처리\n",
    "# 종로구 지점명 정제\n",
    "jongno_df['지점명'] = jongno_df['지점명'].str.replace(r'서울', '종로', regex=True)\n",
    "\n",
    "# 서울시 데이터에 종로구 데이터 추가\n",
    "df = pd.concat([seoul_df, jongno_df], ignore_index=True)\n",
    "\n",
    "# 서울시 데이터 컬럼명 변경\n",
    "df = df.rename(columns={\n",
    "    '일시': '날짜',\n",
    "})\n",
    "df = df[['지점명', '날짜', '평균기온(°C)', '일강수량(mm)', '평균 풍속(m/s)']]\n",
    "\n",
    "df = to_datetime_column(df, date_col= '날짜')\n",
    "\n",
    "# 전처리된 데이터 저장\n",
    "# '../data/processed/weather' 디렉토리에 저장\n",
    "save_to_csv(\n",
    "    df,\n",
    "    output_dir='../data/processed/weather',\n",
    "   file_name='daily_weather_preprocessed'\n",
    ")\n"
   ]
  }
 ],
 "metadata": {
  "kernelspec": {
   "display_name": "tfenv",
   "language": "python",
   "name": "python3"
  },
  "language_info": {
   "codemirror_mode": {
    "name": "ipython",
    "version": 3
   },
   "file_extension": ".py",
   "mimetype": "text/x-python",
   "name": "python",
   "nbconvert_exporter": "python",
   "pygments_lexer": "ipython3",
   "version": "3.10.17"
  }
 },
 "nbformat": 4,
 "nbformat_minor": 2
}
